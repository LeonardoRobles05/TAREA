{
  "nbformat": 4,
  "nbformat_minor": 0,
  "metadata": {
    "colab": {
      "provenance": []
    },
    "kernelspec": {
      "name": "python3",
      "display_name": "Python 3"
    },
    "language_info": {
      "name": "python"
    }
  },
  "cells": [
    {
      "cell_type": "code",
      "execution_count": null,
      "metadata": {
        "id": "Oxa7I71zsH6k"
      },
      "outputs": [],
      "source": [
        "#Elabora un programa que lea un arreglo de 10 posiciones que contenga las edades de 10 de sus compañeros,\n",
        "#calcule el promedio de las edades, obtenga la edad mayor y la edad menor. Al final imprima todos los elementos de la lista"
      ]
    },
    {
      "cell_type": "code",
      "source": [
        "def main():\n",
        "    # Leer las edades de los compañeros\n",
        "    edades = []\n",
        "    for i in range(10):\n",
        "        edad = int(input(f\"Ingrese la edad del compañero {i+1}: \"))\n",
        "        edades.append(edad)\n",
        "\n",
        "    # Calcular el promedio de las edades\n",
        "    promedio = sum(edades) / len(edades)\n",
        "\n",
        "    # Obtener la edad mayor y la edad menor\n",
        "    edad_mayor = max(edades)\n",
        "    edad_menor = min(edades)\n",
        "\n",
        "    # Imprimir el promedio, edad mayor y edad menor\n",
        "    print(f\"El promedio de las edades es: {promedio}\")\n",
        "    print(f\"La edad mayor es: {edad_mayor}\")\n",
        "    print(f\"La edad menor es: {edad_menor}\")\n",
        "\n",
        "    # Imprimir todas las edades\n",
        "    print(\"Las edades de los compañeros son:\")\n",
        "    for edad in edades:\n",
        "        print(edad)\n",
        "\n",
        "if __name__ == \"__main__\":\n",
        "    main()"
      ],
      "metadata": {
        "colab": {
          "base_uri": "https://localhost:8080/"
        },
        "id": "PhM9-vQMsOjm",
        "outputId": "77ce1dc3-514f-454b-9d12-ab747a13684a"
      },
      "execution_count": 1,
      "outputs": [
        {
          "output_type": "stream",
          "name": "stdout",
          "text": [
            "Ingrese la edad del compañero 1: 17\n",
            "Ingrese la edad del compañero 2: 18\n",
            "Ingrese la edad del compañero 3: 19\n",
            "Ingrese la edad del compañero 4: 20\n",
            "Ingrese la edad del compañero 5: 13\n",
            "Ingrese la edad del compañero 6: 14\n",
            "Ingrese la edad del compañero 7: 16\n",
            "Ingrese la edad del compañero 8: 18\n",
            "Ingrese la edad del compañero 9: 19\n",
            "Ingrese la edad del compañero 10: 17\n",
            "El promedio de las edades es: 17.1\n",
            "La edad mayor es: 20\n",
            "La edad menor es: 13\n",
            "Las edades de los compañeros son:\n",
            "17\n",
            "18\n",
            "19\n",
            "20\n",
            "13\n",
            "14\n",
            "16\n",
            "18\n",
            "19\n",
            "17\n"
          ]
        }
      ]
    },
    {
      "cell_type": "code",
      "source": [
        "#Elabore un programa que lea un arreglo de 14 posiciones que contenga los sueldos de los trabajadores de una empresa\n",
        "#agregue el sueldo de un empleado más de $2,500.00, Calcule la nomina total (suma de todos los sueldos) ordene el arreglo\n",
        "#Ordene los datos, elimine el primer elemento de la fila, Al final imprima todos los elementos de la lista"
      ],
      "metadata": {
        "id": "9HKPBw0XsaDs"
      },
      "execution_count": null,
      "outputs": []
    },
    {
      "cell_type": "code",
      "source": [
        "def main():\n",
        "    # Leer los sueldos de los trabajadores\n",
        "    sueldos = []\n",
        "    for i in range(14):\n",
        "        sueldo = float(input(f\"Ingrese el sueldo del trabajador {i+1}: \"))\n",
        "        sueldos.append(sueldo)\n",
        "\n",
        "    # Agregar un sueldo más de $2,500.00\n",
        "    sueldos.append(3000.0)\n",
        "\n",
        "    # Calcular la nómina total\n",
        "    nomina_total = sum(sueldos)\n",
        "\n",
        "    # Ordenar el arreglo\n",
        "    sueldos.sort()\n",
        "\n",
        "    # Eliminar el primer elemento de la lista\n",
        "    sueldos.pop(0)\n",
        "\n",
        "    # Imprimir la nómina total\n",
        "    print(f\"La nómina total es: ${nomina_total:.2f}\")\n",
        "\n",
        "    # Imprimir todos los elementos de la lista\n",
        "    print(\"Los sueldos de los trabajadores son:\")\n",
        "    for sueldo in sueldos:\n",
        "        print(f\"${sueldo:.2f}\")\n",
        "\n",
        "\n",
        "if __name__ == \"__main__\":\n",
        "    main()"
      ],
      "metadata": {
        "colab": {
          "base_uri": "https://localhost:8080/"
        },
        "id": "6rmDubW2sdpG",
        "outputId": "d5a0040f-60a0-49d1-b3af-8564f3c4ad5c"
      },
      "execution_count": 3,
      "outputs": [
        {
          "output_type": "stream",
          "name": "stdout",
          "text": [
            "Ingrese el sueldo del trabajador 1: 234325\n",
            "Ingrese el sueldo del trabajador 2: 25235\n",
            "Ingrese el sueldo del trabajador 3: 23244\n",
            "Ingrese el sueldo del trabajador 4: 342353\n",
            "Ingrese el sueldo del trabajador 5: 3242342\n",
            "Ingrese el sueldo del trabajador 6: 343535\n",
            "Ingrese el sueldo del trabajador 7: 23553\n",
            "Ingrese el sueldo del trabajador 8: 56757\n",
            "Ingrese el sueldo del trabajador 9: 96787\n",
            "Ingrese el sueldo del trabajador 10: 64644\n",
            "Ingrese el sueldo del trabajador 11: 35253\n",
            "Ingrese el sueldo del trabajador 12: 32535\n",
            "Ingrese el sueldo del trabajador 13: 63445\n",
            "Ingrese el sueldo del trabajador 14: 435335\n",
            "La nómina total es: $5022343.00\n",
            "Los sueldos de los trabajadores son:\n",
            "$23244.00\n",
            "$23553.00\n",
            "$25235.00\n",
            "$32535.00\n",
            "$35253.00\n",
            "$56757.00\n",
            "$63445.00\n",
            "$64644.00\n",
            "$96787.00\n",
            "$234325.00\n",
            "$342353.00\n",
            "$343535.00\n",
            "$435335.00\n",
            "$3242342.00\n"
          ]
        }
      ]
    }
  ]
}